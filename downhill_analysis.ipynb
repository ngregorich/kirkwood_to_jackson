{
 "cells": [
  {
   "cell_type": "markdown",
   "metadata": {},
   "source": [
    "# Going Downhill Fast: Achieving 29 Wh / mi\n",
    "**Author:** Nick Gregorich **Date:** March, 2024\n",
    "\n",
    "A couple days after [Lawrence Cayton's recent post on regenerative braking in EVs](https://www.linkedin.com/feed/update/urn:li:activity:7168281132390604800?updateEntityUrn=urn%3Ali%3Afs_feedUpdate%3A%28V2%2Curn%3Ali%3Aactivity%3A7168281132390604800%29), I found myself squinting in confusion at my Tesla Model Y navigation system\n",
    "\n",
    "I was on the way back home to San Francisco from Kirkwood, Lake Tahoe. It was my first time driving an EV to Lake Tahoe with its high elevation and low temperatures. There are plenty of Tesla Super Chargers along the way so I wasn't anxious, but I was definitely confused\n",
    "\n",
    "The navigation system was routing me 45 miles to a charger in Jackson, California and I would arrive with a battery state of charge (SoC) of 32%, plenty of margin! But my current SoC was ... 33%?\n",
    "\n",
    "Well that's a concerning bug, I've really learned to trust the routing on road trips to ensure I have enough charge. **Spoiler:** it wasn't a bug\n",
    "\n",
    "I have exported this trip's from the [Tessie app](https://www.tessie.com), let's take a look!\n",
    "\n",
    "First we'll import my favorite analysis tools: `DuckDB`, `pandas`, and `Plotly`"
   ]
  },
  {
   "cell_type": "code",
   "execution_count": 1,
   "metadata": {},
   "outputs": [],
   "source": [
    "import duckdb\n",
    "import pandas as pd\n",
    "import plotly.express as px"
   ]
  },
  {
   "cell_type": "markdown",
   "metadata": {},
   "source": [
    "We'll store the filename as `filename` and set a constant to convert meters into feet. Strangely, elevation is the only data in [SI units](https://en.wikipedia.org/wiki/SI_base_unit), so we'll need a constant to convert meters to feet\n",
    "\n",
    "We'll also store seconds in minute and minutes in hour"
   ]
  },
  {
   "cell_type": "code",
   "execution_count": 12,
   "metadata": {},
   "outputs": [],
   "source": [
    "filename = \"Tesla-2024-03-10 13-34-28-2024-03-10 14-25-11.csv\"\n",
    "\n",
    "feet_in_meter = 3.28084\n",
    "s_in_min = 60\n",
    "min_in_hour = 60\n",
    "\n",
    "sample_interval_s = 15.0"
   ]
  },
  {
   "cell_type": "markdown",
   "metadata": {},
   "source": [
    "Let's take a look at all of the column names and their types using `describe`"
   ]
  },
  {
   "cell_type": "code",
   "execution_count": 3,
   "metadata": {},
   "outputs": [
    {
     "data": {
      "text/html": [
       "<div>\n",
       "<style scoped>\n",
       "    .dataframe tbody tr th:only-of-type {\n",
       "        vertical-align: middle;\n",
       "    }\n",
       "\n",
       "    .dataframe tbody tr th {\n",
       "        vertical-align: top;\n",
       "    }\n",
       "\n",
       "    .dataframe thead th {\n",
       "        text-align: right;\n",
       "    }\n",
       "</style>\n",
       "<table border=\"1\" class=\"dataframe\">\n",
       "  <thead>\n",
       "    <tr style=\"text-align: right;\">\n",
       "      <th></th>\n",
       "      <th>column_name</th>\n",
       "      <th>column_type</th>\n",
       "      <th>null</th>\n",
       "      <th>key</th>\n",
       "      <th>default</th>\n",
       "      <th>extra</th>\n",
       "    </tr>\n",
       "  </thead>\n",
       "  <tbody>\n",
       "    <tr>\n",
       "      <th>0</th>\n",
       "      <td>Timestamp (PDT)</td>\n",
       "      <td>TIMESTAMP</td>\n",
       "      <td>YES</td>\n",
       "      <td>None</td>\n",
       "      <td>None</td>\n",
       "      <td>None</td>\n",
       "    </tr>\n",
       "    <tr>\n",
       "      <th>1</th>\n",
       "      <td>State</td>\n",
       "      <td>VARCHAR</td>\n",
       "      <td>YES</td>\n",
       "      <td>None</td>\n",
       "      <td>None</td>\n",
       "      <td>None</td>\n",
       "    </tr>\n",
       "    <tr>\n",
       "      <th>2</th>\n",
       "      <td>Charging State</td>\n",
       "      <td>VARCHAR</td>\n",
       "      <td>YES</td>\n",
       "      <td>None</td>\n",
       "      <td>None</td>\n",
       "      <td>None</td>\n",
       "    </tr>\n",
       "    <tr>\n",
       "      <th>3</th>\n",
       "      <td>Shift State</td>\n",
       "      <td>VARCHAR</td>\n",
       "      <td>YES</td>\n",
       "      <td>None</td>\n",
       "      <td>None</td>\n",
       "      <td>None</td>\n",
       "    </tr>\n",
       "    <tr>\n",
       "      <th>4</th>\n",
       "      <td>Battery Level (%)</td>\n",
       "      <td>BIGINT</td>\n",
       "      <td>YES</td>\n",
       "      <td>None</td>\n",
       "      <td>None</td>\n",
       "      <td>None</td>\n",
       "    </tr>\n",
       "    <tr>\n",
       "      <th>5</th>\n",
       "      <td>Usable Battery Level (%)</td>\n",
       "      <td>BIGINT</td>\n",
       "      <td>YES</td>\n",
       "      <td>None</td>\n",
       "      <td>None</td>\n",
       "      <td>None</td>\n",
       "    </tr>\n",
       "    <tr>\n",
       "      <th>6</th>\n",
       "      <td>Battery Range (mi)</td>\n",
       "      <td>DOUBLE</td>\n",
       "      <td>YES</td>\n",
       "      <td>None</td>\n",
       "      <td>None</td>\n",
       "      <td>None</td>\n",
       "    </tr>\n",
       "    <tr>\n",
       "      <th>7</th>\n",
       "      <td>Est. Battery Range (mi)</td>\n",
       "      <td>VARCHAR</td>\n",
       "      <td>YES</td>\n",
       "      <td>None</td>\n",
       "      <td>None</td>\n",
       "      <td>None</td>\n",
       "    </tr>\n",
       "    <tr>\n",
       "      <th>8</th>\n",
       "      <td>Ideal Battery Range (mi)</td>\n",
       "      <td>DOUBLE</td>\n",
       "      <td>YES</td>\n",
       "      <td>None</td>\n",
       "      <td>None</td>\n",
       "      <td>None</td>\n",
       "    </tr>\n",
       "    <tr>\n",
       "      <th>9</th>\n",
       "      <td>Latitude</td>\n",
       "      <td>DOUBLE</td>\n",
       "      <td>YES</td>\n",
       "      <td>None</td>\n",
       "      <td>None</td>\n",
       "      <td>None</td>\n",
       "    </tr>\n",
       "    <tr>\n",
       "      <th>10</th>\n",
       "      <td>Longitude</td>\n",
       "      <td>DOUBLE</td>\n",
       "      <td>YES</td>\n",
       "      <td>None</td>\n",
       "      <td>None</td>\n",
       "      <td>None</td>\n",
       "    </tr>\n",
       "    <tr>\n",
       "      <th>11</th>\n",
       "      <td>Elevation (m)</td>\n",
       "      <td>BIGINT</td>\n",
       "      <td>YES</td>\n",
       "      <td>None</td>\n",
       "      <td>None</td>\n",
       "      <td>None</td>\n",
       "    </tr>\n",
       "    <tr>\n",
       "      <th>12</th>\n",
       "      <td>Speed (mph)</td>\n",
       "      <td>BIGINT</td>\n",
       "      <td>YES</td>\n",
       "      <td>None</td>\n",
       "      <td>None</td>\n",
       "      <td>None</td>\n",
       "    </tr>\n",
       "    <tr>\n",
       "      <th>13</th>\n",
       "      <td>Power (kW)</td>\n",
       "      <td>BIGINT</td>\n",
       "      <td>YES</td>\n",
       "      <td>None</td>\n",
       "      <td>None</td>\n",
       "      <td>None</td>\n",
       "    </tr>\n",
       "    <tr>\n",
       "      <th>14</th>\n",
       "      <td>Odometer (mi)</td>\n",
       "      <td>DOUBLE</td>\n",
       "      <td>YES</td>\n",
       "      <td>None</td>\n",
       "      <td>None</td>\n",
       "      <td>None</td>\n",
       "    </tr>\n",
       "    <tr>\n",
       "      <th>15</th>\n",
       "      <td>Charge Rate (mph)</td>\n",
       "      <td>BIGINT</td>\n",
       "      <td>YES</td>\n",
       "      <td>None</td>\n",
       "      <td>None</td>\n",
       "      <td>None</td>\n",
       "    </tr>\n",
       "    <tr>\n",
       "      <th>16</th>\n",
       "      <td>Current (A)</td>\n",
       "      <td>BIGINT</td>\n",
       "      <td>YES</td>\n",
       "      <td>None</td>\n",
       "      <td>None</td>\n",
       "      <td>None</td>\n",
       "    </tr>\n",
       "    <tr>\n",
       "      <th>17</th>\n",
       "      <td>Charger Power (kW)</td>\n",
       "      <td>BIGINT</td>\n",
       "      <td>YES</td>\n",
       "      <td>None</td>\n",
       "      <td>None</td>\n",
       "      <td>None</td>\n",
       "    </tr>\n",
       "    <tr>\n",
       "      <th>18</th>\n",
       "      <td>Charger Voltage (V)</td>\n",
       "      <td>BIGINT</td>\n",
       "      <td>YES</td>\n",
       "      <td>None</td>\n",
       "      <td>None</td>\n",
       "      <td>None</td>\n",
       "    </tr>\n",
       "    <tr>\n",
       "      <th>19</th>\n",
       "      <td>Charger Phases</td>\n",
       "      <td>VARCHAR</td>\n",
       "      <td>YES</td>\n",
       "      <td>None</td>\n",
       "      <td>None</td>\n",
       "      <td>None</td>\n",
       "    </tr>\n",
       "    <tr>\n",
       "      <th>20</th>\n",
       "      <td>Energy Added (kWh)</td>\n",
       "      <td>DOUBLE</td>\n",
       "      <td>YES</td>\n",
       "      <td>None</td>\n",
       "      <td>None</td>\n",
       "      <td>None</td>\n",
       "    </tr>\n",
       "    <tr>\n",
       "      <th>21</th>\n",
       "      <td>Rated Range Added (mi)</td>\n",
       "      <td>BIGINT</td>\n",
       "      <td>YES</td>\n",
       "      <td>None</td>\n",
       "      <td>None</td>\n",
       "      <td>None</td>\n",
       "    </tr>\n",
       "    <tr>\n",
       "      <th>22</th>\n",
       "      <td>Ideal Range Added (mi)</td>\n",
       "      <td>BIGINT</td>\n",
       "      <td>YES</td>\n",
       "      <td>None</td>\n",
       "      <td>None</td>\n",
       "      <td>None</td>\n",
       "    </tr>\n",
       "    <tr>\n",
       "      <th>23</th>\n",
       "      <td>Climate</td>\n",
       "      <td>BIGINT</td>\n",
       "      <td>YES</td>\n",
       "      <td>None</td>\n",
       "      <td>None</td>\n",
       "      <td>None</td>\n",
       "    </tr>\n",
       "    <tr>\n",
       "      <th>24</th>\n",
       "      <td>Battery Heater</td>\n",
       "      <td>BIGINT</td>\n",
       "      <td>YES</td>\n",
       "      <td>None</td>\n",
       "      <td>None</td>\n",
       "      <td>None</td>\n",
       "    </tr>\n",
       "    <tr>\n",
       "      <th>25</th>\n",
       "      <td>Inside Temp (°F)</td>\n",
       "      <td>BIGINT</td>\n",
       "      <td>YES</td>\n",
       "      <td>None</td>\n",
       "      <td>None</td>\n",
       "      <td>None</td>\n",
       "    </tr>\n",
       "    <tr>\n",
       "      <th>26</th>\n",
       "      <td>Outside Temp (°F)</td>\n",
       "      <td>BIGINT</td>\n",
       "      <td>YES</td>\n",
       "      <td>None</td>\n",
       "      <td>None</td>\n",
       "      <td>None</td>\n",
       "    </tr>\n",
       "    <tr>\n",
       "      <th>27</th>\n",
       "      <td>Locked</td>\n",
       "      <td>BIGINT</td>\n",
       "      <td>YES</td>\n",
       "      <td>None</td>\n",
       "      <td>None</td>\n",
       "      <td>None</td>\n",
       "    </tr>\n",
       "    <tr>\n",
       "      <th>28</th>\n",
       "      <td>Sentry Mode</td>\n",
       "      <td>BIGINT</td>\n",
       "      <td>YES</td>\n",
       "      <td>None</td>\n",
       "      <td>None</td>\n",
       "      <td>None</td>\n",
       "    </tr>\n",
       "  </tbody>\n",
       "</table>\n",
       "</div>"
      ],
      "text/plain": [
       "                 column_name column_type null   key default extra\n",
       "0            Timestamp (PDT)   TIMESTAMP  YES  None    None  None\n",
       "1                      State     VARCHAR  YES  None    None  None\n",
       "2             Charging State     VARCHAR  YES  None    None  None\n",
       "3                Shift State     VARCHAR  YES  None    None  None\n",
       "4          Battery Level (%)      BIGINT  YES  None    None  None\n",
       "5   Usable Battery Level (%)      BIGINT  YES  None    None  None\n",
       "6         Battery Range (mi)      DOUBLE  YES  None    None  None\n",
       "7    Est. Battery Range (mi)     VARCHAR  YES  None    None  None\n",
       "8   Ideal Battery Range (mi)      DOUBLE  YES  None    None  None\n",
       "9                   Latitude      DOUBLE  YES  None    None  None\n",
       "10                 Longitude      DOUBLE  YES  None    None  None\n",
       "11             Elevation (m)      BIGINT  YES  None    None  None\n",
       "12               Speed (mph)      BIGINT  YES  None    None  None\n",
       "13                Power (kW)      BIGINT  YES  None    None  None\n",
       "14             Odometer (mi)      DOUBLE  YES  None    None  None\n",
       "15         Charge Rate (mph)      BIGINT  YES  None    None  None\n",
       "16               Current (A)      BIGINT  YES  None    None  None\n",
       "17        Charger Power (kW)      BIGINT  YES  None    None  None\n",
       "18       Charger Voltage (V)      BIGINT  YES  None    None  None\n",
       "19            Charger Phases     VARCHAR  YES  None    None  None\n",
       "20        Energy Added (kWh)      DOUBLE  YES  None    None  None\n",
       "21    Rated Range Added (mi)      BIGINT  YES  None    None  None\n",
       "22    Ideal Range Added (mi)      BIGINT  YES  None    None  None\n",
       "23                   Climate      BIGINT  YES  None    None  None\n",
       "24            Battery Heater      BIGINT  YES  None    None  None\n",
       "25          Inside Temp (°F)      BIGINT  YES  None    None  None\n",
       "26         Outside Temp (°F)      BIGINT  YES  None    None  None\n",
       "27                    Locked      BIGINT  YES  None    None  None\n",
       "28               Sentry Mode      BIGINT  YES  None    None  None"
      ]
     },
     "execution_count": 3,
     "metadata": {},
     "output_type": "execute_result"
    }
   ],
   "source": [
    "duckdb.query(\n",
    "    f\"\"\"describe from '{filename}'\"\"\"\n",
    ").to_df()"
   ]
  },
  {
   "cell_type": "markdown",
   "metadata": {},
   "source": [
    "When we query a .csv or .parquet file, it may not have the nicest column names to type over and over again\n",
    "\n",
    "Let's create a [SQL view](https://en.wikipedia.org/wiki/View_(SQL)) to make our lives easier when referencing the .csv and its columns"
   ]
  },
  {
   "cell_type": "code",
   "execution_count": 4,
   "metadata": {},
   "outputs": [],
   "source": [
    "duckdb.query(\n",
    "    f\"\"\"create or replace view data_v as\n",
    "                 select \"Timestamp (PDT)\" as ts,\n",
    "                 State as state,\n",
    "                 \"Charging State\" as charging_state,\n",
    "                 \"Shift State\" as shift_state,\n",
    "                 \"Battery Level (%)\" as battery_level,\n",
    "                 \"Usable Battery Level (%)\" as usable_battery_level,\n",
    "                 \"Battery Range (mi)\" as battery_range,\n",
    "                 \"Est. Battery Range (mi)\" as estimated_battery_range,\n",
    "                 \"Ideal Battery Range (mi)\" as ideal_battery_range,\n",
    "                 \"Latitude\" as latitude,\n",
    "                 \"Longitude\" as longitude,\n",
    "                 \"Elevation (m)\" as elevation,\n",
    "                 \"Speed (mph)\" as speed,\n",
    "                 \"Power (kW)\" as power,\n",
    "                 \"Odometer (mi)\" as odometer,\n",
    "                 \"Charge Rate (mph)\" as charge_rate,\n",
    "                 \"Current (A)\" as current,\n",
    "                 \"Charger Power (kW)\" as charger_power,\n",
    "                 \"Charger Voltage (V)\" as charger_voltage,\n",
    "                 \"Charger Phases\" as charger_phases,\n",
    "                 \"Energy Added (kWh)\" as energy_added,\n",
    "                 \"Rated Range Added (mi)\" as rated_range_added,\n",
    "                 \"Ideal Range Added (mi)\" as ideal_range_added,\n",
    "                 \"Climate\" as climate,\n",
    "                 \"Battery Heater\" as battery_heater,\n",
    "                 \"Inside Temp (°F)\" as inside_temperature,\n",
    "                 \"Outside Temp (°F)\" as outside_temperature,\n",
    "                 \"Locked\" as locked,\n",
    "                 \"Sentry Mode\" as sentry_mode\n",
    "                 from '{filename}'\"\"\"\n",
    ")"
   ]
  },
  {
   "cell_type": "markdown",
   "metadata": {},
   "source": [
    "We can preview the first 5 rows of the view"
   ]
  },
  {
   "cell_type": "code",
   "execution_count": 5,
   "metadata": {},
   "outputs": [
    {
     "data": {
      "text/html": [
       "<div>\n",
       "<style scoped>\n",
       "    .dataframe tbody tr th:only-of-type {\n",
       "        vertical-align: middle;\n",
       "    }\n",
       "\n",
       "    .dataframe tbody tr th {\n",
       "        vertical-align: top;\n",
       "    }\n",
       "\n",
       "    .dataframe thead th {\n",
       "        text-align: right;\n",
       "    }\n",
       "</style>\n",
       "<table border=\"1\" class=\"dataframe\">\n",
       "  <thead>\n",
       "    <tr style=\"text-align: right;\">\n",
       "      <th></th>\n",
       "      <th>ts</th>\n",
       "      <th>state</th>\n",
       "      <th>charging_state</th>\n",
       "      <th>shift_state</th>\n",
       "      <th>battery_level</th>\n",
       "      <th>usable_battery_level</th>\n",
       "      <th>battery_range</th>\n",
       "      <th>estimated_battery_range</th>\n",
       "      <th>ideal_battery_range</th>\n",
       "      <th>latitude</th>\n",
       "      <th>...</th>\n",
       "      <th>charger_phases</th>\n",
       "      <th>energy_added</th>\n",
       "      <th>rated_range_added</th>\n",
       "      <th>ideal_range_added</th>\n",
       "      <th>climate</th>\n",
       "      <th>battery_heater</th>\n",
       "      <th>inside_temperature</th>\n",
       "      <th>outside_temperature</th>\n",
       "      <th>locked</th>\n",
       "      <th>sentry_mode</th>\n",
       "    </tr>\n",
       "  </thead>\n",
       "  <tbody>\n",
       "    <tr>\n",
       "      <th>0</th>\n",
       "      <td>2024-03-10 13:34:28</td>\n",
       "      <td>online</td>\n",
       "      <td>Disconnected</td>\n",
       "      <td>D</td>\n",
       "      <td>34</td>\n",
       "      <td>34</td>\n",
       "      <td>97.13</td>\n",
       "      <td>None</td>\n",
       "      <td>97.13</td>\n",
       "      <td>38.627872</td>\n",
       "      <td>...</td>\n",
       "      <td>None</td>\n",
       "      <td>61.26</td>\n",
       "      <td>231</td>\n",
       "      <td>231</td>\n",
       "      <td>1</td>\n",
       "      <td>0</td>\n",
       "      <td>65</td>\n",
       "      <td>37</td>\n",
       "      <td>1</td>\n",
       "      <td>0</td>\n",
       "    </tr>\n",
       "    <tr>\n",
       "      <th>1</th>\n",
       "      <td>2024-03-10 13:34:41</td>\n",
       "      <td>online</td>\n",
       "      <td>Disconnected</td>\n",
       "      <td>D</td>\n",
       "      <td>34</td>\n",
       "      <td>34</td>\n",
       "      <td>97.13</td>\n",
       "      <td>None</td>\n",
       "      <td>97.13</td>\n",
       "      <td>38.628258</td>\n",
       "      <td>...</td>\n",
       "      <td>None</td>\n",
       "      <td>61.26</td>\n",
       "      <td>231</td>\n",
       "      <td>231</td>\n",
       "      <td>1</td>\n",
       "      <td>0</td>\n",
       "      <td>65</td>\n",
       "      <td>37</td>\n",
       "      <td>1</td>\n",
       "      <td>0</td>\n",
       "    </tr>\n",
       "    <tr>\n",
       "      <th>2</th>\n",
       "      <td>2024-03-10 13:40:55</td>\n",
       "      <td>online</td>\n",
       "      <td>Disconnected</td>\n",
       "      <td>D</td>\n",
       "      <td>32</td>\n",
       "      <td>32</td>\n",
       "      <td>92.70</td>\n",
       "      <td>None</td>\n",
       "      <td>92.70</td>\n",
       "      <td>38.570797</td>\n",
       "      <td>...</td>\n",
       "      <td>None</td>\n",
       "      <td>61.26</td>\n",
       "      <td>231</td>\n",
       "      <td>231</td>\n",
       "      <td>1</td>\n",
       "      <td>0</td>\n",
       "      <td>66</td>\n",
       "      <td>37</td>\n",
       "      <td>1</td>\n",
       "      <td>0</td>\n",
       "    </tr>\n",
       "    <tr>\n",
       "      <th>3</th>\n",
       "      <td>2024-03-10 13:41:18</td>\n",
       "      <td>online</td>\n",
       "      <td>Disconnected</td>\n",
       "      <td>D</td>\n",
       "      <td>32</td>\n",
       "      <td>32</td>\n",
       "      <td>92.70</td>\n",
       "      <td>None</td>\n",
       "      <td>92.70</td>\n",
       "      <td>38.567470</td>\n",
       "      <td>...</td>\n",
       "      <td>None</td>\n",
       "      <td>61.26</td>\n",
       "      <td>231</td>\n",
       "      <td>231</td>\n",
       "      <td>1</td>\n",
       "      <td>0</td>\n",
       "      <td>66</td>\n",
       "      <td>37</td>\n",
       "      <td>1</td>\n",
       "      <td>0</td>\n",
       "    </tr>\n",
       "    <tr>\n",
       "      <th>4</th>\n",
       "      <td>2024-03-10 13:41:25</td>\n",
       "      <td>online</td>\n",
       "      <td>Disconnected</td>\n",
       "      <td>D</td>\n",
       "      <td>32</td>\n",
       "      <td>32</td>\n",
       "      <td>92.70</td>\n",
       "      <td>None</td>\n",
       "      <td>92.70</td>\n",
       "      <td>38.564610</td>\n",
       "      <td>...</td>\n",
       "      <td>None</td>\n",
       "      <td>61.26</td>\n",
       "      <td>231</td>\n",
       "      <td>231</td>\n",
       "      <td>1</td>\n",
       "      <td>0</td>\n",
       "      <td>66</td>\n",
       "      <td>37</td>\n",
       "      <td>1</td>\n",
       "      <td>0</td>\n",
       "    </tr>\n",
       "  </tbody>\n",
       "</table>\n",
       "<p>5 rows × 29 columns</p>\n",
       "</div>"
      ],
      "text/plain": [
       "                   ts   state charging_state shift_state  battery_level  \\\n",
       "0 2024-03-10 13:34:28  online   Disconnected           D             34   \n",
       "1 2024-03-10 13:34:41  online   Disconnected           D             34   \n",
       "2 2024-03-10 13:40:55  online   Disconnected           D             32   \n",
       "3 2024-03-10 13:41:18  online   Disconnected           D             32   \n",
       "4 2024-03-10 13:41:25  online   Disconnected           D             32   \n",
       "\n",
       "   usable_battery_level  battery_range estimated_battery_range  \\\n",
       "0                    34          97.13                    None   \n",
       "1                    34          97.13                    None   \n",
       "2                    32          92.70                    None   \n",
       "3                    32          92.70                    None   \n",
       "4                    32          92.70                    None   \n",
       "\n",
       "   ideal_battery_range   latitude  ...  charger_phases  energy_added  \\\n",
       "0                97.13  38.627872  ...            None         61.26   \n",
       "1                97.13  38.628258  ...            None         61.26   \n",
       "2                92.70  38.570797  ...            None         61.26   \n",
       "3                92.70  38.567470  ...            None         61.26   \n",
       "4                92.70  38.564610  ...            None         61.26   \n",
       "\n",
       "   rated_range_added  ideal_range_added  climate  battery_heater  \\\n",
       "0                231                231        1               0   \n",
       "1                231                231        1               0   \n",
       "2                231                231        1               0   \n",
       "3                231                231        1               0   \n",
       "4                231                231        1               0   \n",
       "\n",
       "   inside_temperature  outside_temperature  locked sentry_mode  \n",
       "0                  65                   37       1           0  \n",
       "1                  65                   37       1           0  \n",
       "2                  66                   37       1           0  \n",
       "3                  66                   37       1           0  \n",
       "4                  66                   37       1           0  \n",
       "\n",
       "[5 rows x 29 columns]"
      ]
     },
     "execution_count": 5,
     "metadata": {},
     "output_type": "execute_result"
    }
   ],
   "source": [
    "df = duckdb.query(f\"select * from data_v\").to_df()\n",
    "df.head()"
   ]
  },
  {
   "cell_type": "markdown",
   "metadata": {},
   "source": [
    "First we want the `ts` or timestamp column\n",
    "\n",
    "Then we'll [union](https://en.wikipedia.org/wiki/Set_operations_(SQL)) a number of queries together to make column / tidy oriented data. We'll add a column called polarity that will read `discharge` if the battery is discharging (and the vehicle is likely accelerating) and `charge` if the battery is charging (regenerative braking)\n",
    "\n",
    "To support our tidy data, we'll have a variable column called `sensor` and a value column called `reading`. We'll include the following sensors:\n",
    "\n",
    "1. `Trip (mi)`\n",
    "    1. How many miles into the trip we are, starting at 0\n",
    "    2. This is derived as: `odometer - min(odometer)`\n",
    "2. `Speed (mph)`\n",
    "   1. Speed of travel\n",
    "3. `Range (mi)`\n",
    "    1. How many miles the vehicle estimates we can travel based on the battery SoC (and other factors)\n",
    "    2. `battery_level` is an integer [0% - 100%] so it is somewhat coarse\n",
    "    3. `battery_range` is also coarse, but better than `battery_level`\n",
    "4. `Power (kW)`\n",
    "    1. Positive power indicates battery discharge (generally acceleration)\n",
    "    2. Negative power indicates battery charge (regenerative braking)\n",
    "    3. Unclear if this is an instantaneous value at the arbitrary point in time or if it includes any smoothing / aggregation\n",
    "    4. I suspect it is an instantaneous value\n",
    "5. `Elevation (ft)`\n",
    "    1. Elevation, converted from meters to feet \n",
    "\n",
    "We'll preview the first 5 rows"
   ]
  },
  {
   "cell_type": "code",
   "execution_count": 6,
   "metadata": {},
   "outputs": [
    {
     "data": {
      "text/html": [
       "<div>\n",
       "<style scoped>\n",
       "    .dataframe tbody tr th:only-of-type {\n",
       "        vertical-align: middle;\n",
       "    }\n",
       "\n",
       "    .dataframe tbody tr th {\n",
       "        vertical-align: top;\n",
       "    }\n",
       "\n",
       "    .dataframe thead th {\n",
       "        text-align: right;\n",
       "    }\n",
       "</style>\n",
       "<table border=\"1\" class=\"dataframe\">\n",
       "  <thead>\n",
       "    <tr style=\"text-align: right;\">\n",
       "      <th></th>\n",
       "      <th>ts</th>\n",
       "      <th>polarity</th>\n",
       "      <th>sensor</th>\n",
       "      <th>reading</th>\n",
       "    </tr>\n",
       "  </thead>\n",
       "  <tbody>\n",
       "    <tr>\n",
       "      <th>0</th>\n",
       "      <td>2024-03-10 13:34:28</td>\n",
       "      <td>discharge</td>\n",
       "      <td>Power (kW)</td>\n",
       "      <td>30.00000</td>\n",
       "    </tr>\n",
       "    <tr>\n",
       "      <th>1</th>\n",
       "      <td>2024-03-10 13:34:28</td>\n",
       "      <td>discharge</td>\n",
       "      <td>Trip (mi)</td>\n",
       "      <td>0.00000</td>\n",
       "    </tr>\n",
       "    <tr>\n",
       "      <th>2</th>\n",
       "      <td>2024-03-10 13:34:28</td>\n",
       "      <td>discharge</td>\n",
       "      <td>Speed (mph)</td>\n",
       "      <td>63.00000</td>\n",
       "    </tr>\n",
       "    <tr>\n",
       "      <th>3</th>\n",
       "      <td>2024-03-10 13:34:28</td>\n",
       "      <td>discharge</td>\n",
       "      <td>Elevation (ft)</td>\n",
       "      <td>7440.94512</td>\n",
       "    </tr>\n",
       "    <tr>\n",
       "      <th>4</th>\n",
       "      <td>2024-03-10 13:34:28</td>\n",
       "      <td>discharge</td>\n",
       "      <td>Range (mi)</td>\n",
       "      <td>97.13000</td>\n",
       "    </tr>\n",
       "  </tbody>\n",
       "</table>\n",
       "</div>"
      ],
      "text/plain": [
       "                   ts   polarity          sensor     reading\n",
       "0 2024-03-10 13:34:28  discharge      Power (kW)    30.00000\n",
       "1 2024-03-10 13:34:28  discharge       Trip (mi)     0.00000\n",
       "2 2024-03-10 13:34:28  discharge     Speed (mph)    63.00000\n",
       "3 2024-03-10 13:34:28  discharge  Elevation (ft)  7440.94512\n",
       "4 2024-03-10 13:34:28  discharge      Range (mi)    97.13000"
      ]
     },
     "execution_count": 6,
     "metadata": {},
     "output_type": "execute_result"
    }
   ],
   "source": [
    "df = duckdb.query(\n",
    "    f\"\"\"select ts,\n",
    "               case when power >= 0 then 'discharge'\n",
    "               else 'charge' end as polarity,\n",
    "               'Trip (mi)' as sensor,\n",
    "               odometer - (select min(odometer) from data_v) as reading\n",
    "               from data_v\n",
    "        union\n",
    "        select ts,\n",
    "               case when power >= 0 then 'discharge'\n",
    "               else 'charge' end as polarity,\n",
    "               'Speed (mph)' as sensor,\n",
    "               speed as reading\n",
    "               from data_v\n",
    "        union\n",
    "               select ts,\n",
    "               case when power >= 0 then 'discharge'\n",
    "               else 'charge' end as polarity,\n",
    "               'Range (mi)' as sensor,\n",
    "               battery_range as reading\n",
    "               from data_v\n",
    "        union\n",
    "        select ts,\n",
    "               case when power >= 0 then 'discharge'\n",
    "               else 'charge' end as polarity,\n",
    "               'Power (kW)' as sensor,\n",
    "               power as reading\n",
    "               from data_v\n",
    "        union\n",
    "        select ts,\n",
    "               case when power >= 0 then 'discharge'\n",
    "               else 'charge' end as polarity,\n",
    "               'Elevation (ft)' as sensor,\n",
    "               {feet_in_meter} * elevation as reading\n",
    "               from data_v\n",
    "\n",
    "        order by ts\n",
    "               \"\"\"\n",
    ").to_df()\n",
    "\n",
    "df.head()"
   ]
  },
  {
   "cell_type": "markdown",
   "metadata": {},
   "source": [
    "Now we'll make the plot:\n",
    "\n",
    "1. We create a Plotly Express scatter `fig`\n",
    "2. We give it our `df`\n",
    "3. We want to plot time `ts` on the x-axis\n",
    "4. We plot our tidy `reading` on the y-axis\n",
    "5. We plot each `sensor` individually using `facet_row`\n",
    "   1. Trip (mi)\n",
    "   2. Speed (mph)\n",
    "   3. Range (mi)\n",
    "   4. Power (kW)\n",
    "   5. Elevation (ft)\n",
    "6. We color code each point\n",
    "   1. Red for positive battery discharge power\n",
    "   2. Blue for negative battery charge power"
   ]
  },
  {
   "cell_type": "code",
   "execution_count": 7,
   "metadata": {},
   "outputs": [
    {
     "data": {
      "application/vnd.plotly.v1+json": {
       "config": {
        "plotlyServerURL": "https://plot.ly"
       },
       "data": [
        {
         "hovertemplate": "polarity=charge<br>sensor=Trip (mi)<br>ts=%{x}<br>reading=%{y}<extra></extra>",
         "legendgroup": "charge",
         "marker": {
          "color": "#636efa",
          "symbol": "circle"
         },
         "mode": "markers",
         "name": "charge",
         "orientation": "v",
         "showlegend": true,
         "type": "scatter",
         "x": [
          "2024-03-10T13:34:41",
          "2024-03-10T13:41:18",
          "2024-03-10T13:41:25",
          "2024-03-10T13:43:29",
          "2024-03-10T13:48:40",
          "2024-03-10T13:49:42",
          "2024-03-10T13:50:11",
          "2024-03-10T13:50:24",
          "2024-03-10T13:50:55",
          "2024-03-10T13:51:31",
          "2024-03-10T13:51:55",
          "2024-03-10T13:52:11",
          "2024-03-10T13:52:26",
          "2024-03-10T13:52:55",
          "2024-03-10T13:53:24",
          "2024-03-10T13:53:39",
          "2024-03-10T13:56:03",
          "2024-03-10T13:57:25",
          "2024-03-10T13:59:40",
          "2024-03-10T14:00:11",
          "2024-03-10T14:00:26",
          "2024-03-10T14:00:41",
          "2024-03-10T14:01:10",
          "2024-03-10T14:01:25",
          "2024-03-10T14:04:42",
          "2024-03-10T14:04:58",
          "2024-03-10T14:06:40",
          "2024-03-10T14:06:55",
          "2024-03-10T14:07:16",
          "2024-03-10T14:08:25",
          "2024-03-10T14:08:40",
          "2024-03-10T14:08:55",
          "2024-03-10T14:09:11",
          "2024-03-10T14:09:40",
          "2024-03-10T14:10:25",
          "2024-03-10T14:10:40",
          "2024-03-10T14:10:56",
          "2024-03-10T14:11:27",
          "2024-03-10T14:12:10",
          "2024-03-10T14:12:41",
          "2024-03-10T14:13:10",
          "2024-03-10T14:14:26",
          "2024-03-10T14:14:55",
          "2024-03-10T14:15:10",
          "2024-03-10T14:15:25",
          "2024-03-10T14:15:54",
          "2024-03-10T14:16:11",
          "2024-03-10T14:16:39",
          "2024-03-10T14:16:55",
          "2024-03-10T14:17:10",
          "2024-03-10T14:17:56",
          "2024-03-10T14:18:10",
          "2024-03-10T14:18:25",
          "2024-03-10T14:18:40",
          "2024-03-10T14:19:10",
          "2024-03-10T14:19:55",
          "2024-03-10T14:22:25",
          "2024-03-10T14:22:55",
          "2024-03-10T14:23:11",
          "2024-03-10T14:23:25",
          "2024-03-10T14:23:39"
         ],
         "xaxis": "x5",
         "y": [
          0.21000000000003638,
          6.280000000000655,
          6.510000000000218,
          8.480000000000473,
          13.710000000000036,
          14.659999999999854,
          15.110000000000582,
          15.320000000000618,
          15.820000000000618,
          16.43000000000029,
          16.850000000000364,
          17.0600000000004,
          17.289999999999964,
          17.699999999999818,
          18.140000000000327,
          18.390000000000327,
          20.74000000000069,
          21.949999999999818,
          24.110000000000582,
          24.579999999999927,
          24.76000000000022,
          24.94000000000051,
          25.36999999999989,
          25.5600000000004,
          28.3100000000004,
          28.539999999999964,
          30.090000000000146,
          30.300000000000182,
          30.51000000000022,
          31.38000000000011,
          31.550000000000182,
          31.74000000000069,
          31.960000000000036,
          32.400000000000546,
          33.150000000000546,
          33.400000000000546,
          33.659999999999854,
          34.159999999999854,
          34.86000000000058,
          35.289999999999964,
          35.600000000000364,
          36.57000000000062,
          37.030000000000655,
          37.280000000000655,
          37.539999999999964,
          38.02000000000044,
          38.26000000000022,
          38.68000000000029,
          38.909999999999854,
          39.14000000000033,
          39.82000000000062,
          40.030000000000655,
          40.25,
          40.5,
          41.01000000000022,
          41.710000000000036,
          43.98000000000047,
          44.32000000000062,
          44.49000000000069,
          44.61999999999989,
          44.74000000000069
         ],
         "yaxis": "y5"
        },
        {
         "hovertemplate": "polarity=charge<br>sensor=Speed (mph)<br>ts=%{x}<br>reading=%{y}<extra></extra>",
         "legendgroup": "charge",
         "marker": {
          "color": "#636efa",
          "symbol": "circle"
         },
         "mode": "markers",
         "name": "charge",
         "orientation": "v",
         "showlegend": false,
         "type": "scatter",
         "x": [
          "2024-03-10T13:34:41",
          "2024-03-10T13:41:18",
          "2024-03-10T13:41:25",
          "2024-03-10T13:43:29",
          "2024-03-10T13:48:40",
          "2024-03-10T13:49:42",
          "2024-03-10T13:50:11",
          "2024-03-10T13:50:24",
          "2024-03-10T13:50:55",
          "2024-03-10T13:51:31",
          "2024-03-10T13:51:55",
          "2024-03-10T13:52:11",
          "2024-03-10T13:52:26",
          "2024-03-10T13:52:55",
          "2024-03-10T13:53:24",
          "2024-03-10T13:53:39",
          "2024-03-10T13:56:03",
          "2024-03-10T13:57:25",
          "2024-03-10T13:59:40",
          "2024-03-10T14:00:11",
          "2024-03-10T14:00:26",
          "2024-03-10T14:00:41",
          "2024-03-10T14:01:10",
          "2024-03-10T14:01:25",
          "2024-03-10T14:04:42",
          "2024-03-10T14:04:58",
          "2024-03-10T14:06:40",
          "2024-03-10T14:06:55",
          "2024-03-10T14:07:16",
          "2024-03-10T14:08:25",
          "2024-03-10T14:08:40",
          "2024-03-10T14:08:55",
          "2024-03-10T14:09:11",
          "2024-03-10T14:09:40",
          "2024-03-10T14:10:25",
          "2024-03-10T14:10:40",
          "2024-03-10T14:10:56",
          "2024-03-10T14:11:27",
          "2024-03-10T14:12:10",
          "2024-03-10T14:12:41",
          "2024-03-10T14:13:10",
          "2024-03-10T14:14:26",
          "2024-03-10T14:14:55",
          "2024-03-10T14:15:10",
          "2024-03-10T14:15:25",
          "2024-03-10T14:15:54",
          "2024-03-10T14:16:11",
          "2024-03-10T14:16:39",
          "2024-03-10T14:16:55",
          "2024-03-10T14:17:10",
          "2024-03-10T14:17:56",
          "2024-03-10T14:18:10",
          "2024-03-10T14:18:25",
          "2024-03-10T14:18:40",
          "2024-03-10T14:19:10",
          "2024-03-10T14:19:55",
          "2024-03-10T14:22:25",
          "2024-03-10T14:22:55",
          "2024-03-10T14:23:11",
          "2024-03-10T14:23:25",
          "2024-03-10T14:23:39"
         ],
         "xaxis": "x4",
         "y": [
          57,
          54,
          58,
          64,
          61,
          55,
          59,
          55,
          69,
          69,
          57,
          50,
          50,
          58,
          68,
          60,
          58,
          65,
          54,
          50,
          42,
          50,
          51,
          41,
          58,
          52,
          54,
          52,
          52,
          36,
          49,
          46,
          54,
          56,
          63,
          61,
          56,
          75,
          53,
          44,
          35,
          62,
          60,
          63,
          62,
          56,
          55,
          52,
          57,
          50,
          57,
          46,
          61,
          60,
          60,
          67,
          49,
          36,
          40,
          23,
          32
         ],
         "yaxis": "y4"
        },
        {
         "hovertemplate": "polarity=charge<br>sensor=Range (mi)<br>ts=%{x}<br>reading=%{y}<extra></extra>",
         "legendgroup": "charge",
         "marker": {
          "color": "#636efa",
          "symbol": "circle"
         },
         "mode": "markers",
         "name": "charge",
         "orientation": "v",
         "showlegend": false,
         "type": "scatter",
         "x": [
          "2024-03-10T13:34:41",
          "2024-03-10T13:41:18",
          "2024-03-10T13:41:25",
          "2024-03-10T13:43:29",
          "2024-03-10T13:48:40",
          "2024-03-10T13:49:42",
          "2024-03-10T13:50:11",
          "2024-03-10T13:50:24",
          "2024-03-10T13:50:55",
          "2024-03-10T13:51:31",
          "2024-03-10T13:51:55",
          "2024-03-10T13:52:11",
          "2024-03-10T13:52:26",
          "2024-03-10T13:52:55",
          "2024-03-10T13:53:24",
          "2024-03-10T13:53:39",
          "2024-03-10T13:56:03",
          "2024-03-10T13:57:25",
          "2024-03-10T13:59:40",
          "2024-03-10T14:00:11",
          "2024-03-10T14:00:26",
          "2024-03-10T14:00:41",
          "2024-03-10T14:01:10",
          "2024-03-10T14:01:25",
          "2024-03-10T14:04:42",
          "2024-03-10T14:04:58",
          "2024-03-10T14:06:40",
          "2024-03-10T14:06:55",
          "2024-03-10T14:07:16",
          "2024-03-10T14:08:25",
          "2024-03-10T14:08:40",
          "2024-03-10T14:08:55",
          "2024-03-10T14:09:11",
          "2024-03-10T14:09:40",
          "2024-03-10T14:10:25",
          "2024-03-10T14:10:40",
          "2024-03-10T14:10:56",
          "2024-03-10T14:11:27",
          "2024-03-10T14:12:10",
          "2024-03-10T14:12:41",
          "2024-03-10T14:13:10",
          "2024-03-10T14:14:26",
          "2024-03-10T14:14:55",
          "2024-03-10T14:15:10",
          "2024-03-10T14:15:25",
          "2024-03-10T14:15:54",
          "2024-03-10T14:16:11",
          "2024-03-10T14:16:39",
          "2024-03-10T14:16:55",
          "2024-03-10T14:17:10",
          "2024-03-10T14:17:56",
          "2024-03-10T14:18:10",
          "2024-03-10T14:18:25",
          "2024-03-10T14:18:40",
          "2024-03-10T14:19:10",
          "2024-03-10T14:19:55",
          "2024-03-10T14:22:25",
          "2024-03-10T14:22:55",
          "2024-03-10T14:23:11",
          "2024-03-10T14:23:25",
          "2024-03-10T14:23:39"
         ],
         "xaxis": "x3",
         "y": [
          97.13,
          92.7,
          92.7,
          92.7,
          94.12,
          93.17,
          93.17,
          93.17,
          93.17,
          93.17,
          93.17,
          93.17,
          93.17,
          93.17,
          92.7,
          92.7,
          92.15,
          92.15,
          92.15,
          92.15,
          92.15,
          92.15,
          92.15,
          92.15,
          93.65,
          93.65,
          93.65,
          93.65,
          93.65,
          93.65,
          93.65,
          93.65,
          93.65,
          93.65,
          93.65,
          93.65,
          93.65,
          93.65,
          91.67,
          91.67,
          91.67,
          91.67,
          91.67,
          91.67,
          91.67,
          91.67,
          91.67,
          91.67,
          91.67,
          91.67,
          91.67,
          91.67,
          91.67,
          91.67,
          91.67,
          91.67,
          91.67,
          91.67,
          91.67,
          91.67,
          91.67
         ],
         "yaxis": "y3"
        },
        {
         "hovertemplate": "polarity=charge<br>sensor=Power (kW)<br>ts=%{x}<br>reading=%{y}<extra></extra>",
         "legendgroup": "charge",
         "marker": {
          "color": "#636efa",
          "symbol": "circle"
         },
         "mode": "markers",
         "name": "charge",
         "orientation": "v",
         "showlegend": false,
         "type": "scatter",
         "x": [
          "2024-03-10T13:34:41",
          "2024-03-10T13:41:18",
          "2024-03-10T13:41:25",
          "2024-03-10T13:43:29",
          "2024-03-10T13:48:40",
          "2024-03-10T13:49:42",
          "2024-03-10T13:50:11",
          "2024-03-10T13:50:24",
          "2024-03-10T13:50:55",
          "2024-03-10T13:51:31",
          "2024-03-10T13:51:55",
          "2024-03-10T13:52:11",
          "2024-03-10T13:52:26",
          "2024-03-10T13:52:55",
          "2024-03-10T13:53:24",
          "2024-03-10T13:53:39",
          "2024-03-10T13:56:03",
          "2024-03-10T13:57:25",
          "2024-03-10T13:59:40",
          "2024-03-10T14:00:11",
          "2024-03-10T14:00:26",
          "2024-03-10T14:00:41",
          "2024-03-10T14:01:10",
          "2024-03-10T14:01:25",
          "2024-03-10T14:04:42",
          "2024-03-10T14:04:58",
          "2024-03-10T14:06:40",
          "2024-03-10T14:06:55",
          "2024-03-10T14:07:16",
          "2024-03-10T14:08:25",
          "2024-03-10T14:08:40",
          "2024-03-10T14:08:55",
          "2024-03-10T14:09:11",
          "2024-03-10T14:09:40",
          "2024-03-10T14:10:25",
          "2024-03-10T14:10:40",
          "2024-03-10T14:10:56",
          "2024-03-10T14:11:27",
          "2024-03-10T14:12:10",
          "2024-03-10T14:12:41",
          "2024-03-10T14:13:10",
          "2024-03-10T14:14:26",
          "2024-03-10T14:14:55",
          "2024-03-10T14:15:10",
          "2024-03-10T14:15:25",
          "2024-03-10T14:15:54",
          "2024-03-10T14:16:11",
          "2024-03-10T14:16:39",
          "2024-03-10T14:16:55",
          "2024-03-10T14:17:10",
          "2024-03-10T14:17:56",
          "2024-03-10T14:18:10",
          "2024-03-10T14:18:25",
          "2024-03-10T14:18:40",
          "2024-03-10T14:19:10",
          "2024-03-10T14:19:55",
          "2024-03-10T14:22:25",
          "2024-03-10T14:22:55",
          "2024-03-10T14:23:11",
          "2024-03-10T14:23:25",
          "2024-03-10T14:23:39"
         ],
         "xaxis": "x2",
         "y": [
          -43,
          -4,
          -16,
          -10,
          -13,
          -61,
          -57,
          -20,
          -9,
          -13,
          -14,
          -1,
          -7,
          -36,
          -38,
          -76,
          -21,
          -7,
          -3,
          -62,
          -9,
          -5,
          -12,
          -19,
          -20,
          -1,
          -21,
          -5,
          -18,
          -1,
          -32,
          -17,
          -5,
          -7,
          -33,
          -9,
          -2,
          -75,
          -32,
          -25,
          -9,
          -68,
          -7,
          -14,
          -34,
          -11,
          -27,
          -4,
          -10,
          -43,
          -9,
          -16,
          -3,
          -18,
          -21,
          -41,
          -26,
          -1,
          -10,
          -29,
          -20
         ],
         "yaxis": "y2"
        },
        {
         "hovertemplate": "polarity=charge<br>sensor=Elevation (ft)<br>ts=%{x}<br>reading=%{y}<extra></extra>",
         "legendgroup": "charge",
         "marker": {
          "color": "#636efa",
          "symbol": "circle"
         },
         "mode": "markers",
         "name": "charge",
         "orientation": "v",
         "showlegend": false,
         "type": "scatter",
         "x": [
          "2024-03-10T13:34:41",
          "2024-03-10T13:41:18",
          "2024-03-10T13:41:25",
          "2024-03-10T13:43:29",
          "2024-03-10T13:48:40",
          "2024-03-10T13:49:42",
          "2024-03-10T13:50:11",
          "2024-03-10T13:50:24",
          "2024-03-10T13:50:55",
          "2024-03-10T13:51:31",
          "2024-03-10T13:51:55",
          "2024-03-10T13:52:11",
          "2024-03-10T13:52:26",
          "2024-03-10T13:52:55",
          "2024-03-10T13:53:24",
          "2024-03-10T13:53:39",
          "2024-03-10T13:56:03",
          "2024-03-10T13:57:25",
          "2024-03-10T13:59:40",
          "2024-03-10T14:00:11",
          "2024-03-10T14:00:26",
          "2024-03-10T14:00:41",
          "2024-03-10T14:01:10",
          "2024-03-10T14:01:25",
          "2024-03-10T14:04:42",
          "2024-03-10T14:04:58",
          "2024-03-10T14:06:40",
          "2024-03-10T14:06:55",
          "2024-03-10T14:07:16",
          "2024-03-10T14:08:25",
          "2024-03-10T14:08:40",
          "2024-03-10T14:08:55",
          "2024-03-10T14:09:11",
          "2024-03-10T14:09:40",
          "2024-03-10T14:10:25",
          "2024-03-10T14:10:40",
          "2024-03-10T14:10:56",
          "2024-03-10T14:11:27",
          "2024-03-10T14:12:10",
          "2024-03-10T14:12:41",
          "2024-03-10T14:13:10",
          "2024-03-10T14:14:26",
          "2024-03-10T14:14:55",
          "2024-03-10T14:15:10",
          "2024-03-10T14:15:25",
          "2024-03-10T14:15:54",
          "2024-03-10T14:16:11",
          "2024-03-10T14:16:39",
          "2024-03-10T14:16:55",
          "2024-03-10T14:17:10",
          "2024-03-10T14:17:56",
          "2024-03-10T14:18:10",
          "2024-03-10T14:18:25",
          "2024-03-10T14:18:40",
          "2024-03-10T14:19:10",
          "2024-03-10T14:19:55",
          "2024-03-10T14:22:25",
          "2024-03-10T14:22:55",
          "2024-03-10T14:23:11",
          "2024-03-10T14:23:25",
          "2024-03-10T14:23:39"
         ],
         "xaxis": "x",
         "y": [
          7434.38344,
          6850.39392,
          6768.37292,
          6505.90572,
          5449.47524,
          5488.84532,
          5311.67996,
          5269.02904,
          5068.8978,
          4931.10252,
          4996.71932,
          5006.56184,
          4977.03428,
          4986.8768,
          4881.88992,
          4849.08152,
          4229.00276,
          4189.63268,
          3799.21272,
          3736.87676,
          3690.945,
          3631.88988,
          3503.93712,
          3458.00536,
          3133.2022,
          3083.9896,
          2906.82424,
          2903.5434,
          2893.70088,
          2841.20744,
          2791.99484,
          2739.5014,
          2680.44628,
          2654.19956,
          2493.4384,
          2509.8426,
          2470.47252,
          2395.0132,
          2519.68512,
          2516.40428,
          2513.12344,
          2352.36228,
          2257.21792,
          2168.63524,
          2076.77172,
          2017.7166,
          1958.66148,
          1814.30452,
          1774.93444,
          1719.16016,
          1650.26252,
          1561.67984,
          1548.55648,
          1519.02892,
          1479.65884,
          1368.11028,
          1213.9108,
          1213.9108,
          1263.1234,
          1177.82156,
          1187.66408
         ],
         "yaxis": "y"
        },
        {
         "hovertemplate": "polarity=discharge<br>sensor=Trip (mi)<br>ts=%{x}<br>reading=%{y}<extra></extra>",
         "legendgroup": "discharge",
         "marker": {
          "color": "#EF553B",
          "symbol": "circle"
         },
         "mode": "markers",
         "name": "discharge",
         "orientation": "v",
         "showlegend": true,
         "type": "scatter",
         "x": [
          "2024-03-10T13:34:28",
          "2024-03-10T13:40:55",
          "2024-03-10T13:41:40",
          "2024-03-10T13:41:55",
          "2024-03-10T13:42:28",
          "2024-03-10T13:49:55",
          "2024-03-10T13:51:40",
          "2024-03-10T13:52:40",
          "2024-03-10T13:53:10",
          "2024-03-10T13:53:55",
          "2024-03-10T13:54:10",
          "2024-03-10T13:54:24",
          "2024-03-10T13:54:40",
          "2024-03-10T13:56:11",
          "2024-03-10T13:56:24",
          "2024-03-10T13:56:40",
          "2024-03-10T13:56:55",
          "2024-03-10T13:57:10",
          "2024-03-10T13:57:40",
          "2024-03-10T13:57:55",
          "2024-03-10T13:59:56",
          "2024-03-10T14:00:55",
          "2024-03-10T14:04:30",
          "2024-03-10T14:06:26",
          "2024-03-10T14:08:10",
          "2024-03-10T14:09:25",
          "2024-03-10T14:09:54",
          "2024-03-10T14:10:10",
          "2024-03-10T14:11:15",
          "2024-03-10T14:11:40",
          "2024-03-10T14:11:55",
          "2024-03-10T14:12:25",
          "2024-03-10T14:12:55",
          "2024-03-10T14:13:25",
          "2024-03-10T14:13:40",
          "2024-03-10T14:13:55",
          "2024-03-10T14:14:10",
          "2024-03-10T14:14:40",
          "2024-03-10T14:15:40",
          "2024-03-10T14:16:25",
          "2024-03-10T14:17:25",
          "2024-03-10T14:17:40",
          "2024-03-10T14:18:55",
          "2024-03-10T14:19:25",
          "2024-03-10T14:19:41",
          "2024-03-10T14:20:10",
          "2024-03-10T14:20:25",
          "2024-03-10T14:20:40",
          "2024-03-10T14:20:55",
          "2024-03-10T14:21:10",
          "2024-03-10T14:21:25",
          "2024-03-10T14:21:40",
          "2024-03-10T14:21:55",
          "2024-03-10T14:22:11",
          "2024-03-10T14:22:39",
          "2024-03-10T14:23:55",
          "2024-03-10T14:24:10",
          "2024-03-10T14:24:25",
          "2024-03-10T14:24:40",
          "2024-03-10T14:24:56",
          "2024-03-10T14:25:11"
         ],
         "xaxis": "x5",
         "y": [
          0,
          6.030000000000655,
          6.720000000000255,
          6.900000000000546,
          7.360000000000582,
          14.840000000000146,
          16.600000000000364,
          17.480000000000473,
          17.909999999999854,
          18.61999999999989,
          18.860000000000582,
          19.100000000000364,
          19.3100000000004,
          20.860000000000582,
          21.090000000000146,
          21.289999999999964,
          21.49000000000069,
          21.699999999999818,
          22.19000000000051,
          22.409999999999854,
          24.340000000000146,
          25.150000000000546,
          28.100000000000364,
          29.860000000000582,
          31.210000000000036,
          32.17000000000007,
          32.64000000000033,
          32.88000000000011,
          33.86999999999989,
          34.409999999999854,
          34.64000000000033,
          35.07000000000062,
          35.44000000000051,
          35.74000000000069,
          35.909999999999854,
          36.100000000000364,
          36.3100000000004,
          36.789999999999964,
          37.780000000000655,
          38.44999999999982,
          39.350000000000364,
          39.57000000000062,
          40.73000000000047,
          41.23000000000047,
          41.470000000000255,
          41.960000000000036,
          42.18000000000029,
          42.39000000000033,
          42.600000000000364,
          42.82000000000062,
          43.05000000000018,
          43.289999999999964,
          43.51000000000022,
          43.77000000000044,
          44.159999999999854,
          44.8100000000004,
          44.850000000000364,
          44.909999999999854,
          44.93000000000029,
          44.93000000000029,
          44.93000000000029
         ],
         "yaxis": "y5"
        },
        {
         "hovertemplate": "polarity=discharge<br>sensor=Speed (mph)<br>ts=%{x}<br>reading=%{y}<extra></extra>",
         "legendgroup": "discharge",
         "marker": {
          "color": "#EF553B",
          "symbol": "circle"
         },
         "mode": "markers",
         "name": "discharge",
         "orientation": "v",
         "showlegend": false,
         "type": "scatter",
         "x": [
          "2024-03-10T13:34:28",
          "2024-03-10T13:40:55",
          "2024-03-10T13:41:40",
          "2024-03-10T13:41:55",
          "2024-03-10T13:42:28",
          "2024-03-10T13:49:55",
          "2024-03-10T13:51:40",
          "2024-03-10T13:52:40",
          "2024-03-10T13:53:10",
          "2024-03-10T13:53:55",
          "2024-03-10T13:54:10",
          "2024-03-10T13:54:24",
          "2024-03-10T13:54:40",
          "2024-03-10T13:56:11",
          "2024-03-10T13:56:24",
          "2024-03-10T13:56:40",
          "2024-03-10T13:56:55",
          "2024-03-10T13:57:10",
          "2024-03-10T13:57:40",
          "2024-03-10T13:57:55",
          "2024-03-10T13:59:56",
          "2024-03-10T14:00:55",
          "2024-03-10T14:04:30",
          "2024-03-10T14:06:26",
          "2024-03-10T14:08:10",
          "2024-03-10T14:09:25",
          "2024-03-10T14:09:54",
          "2024-03-10T14:10:10",
          "2024-03-10T14:11:15",
          "2024-03-10T14:11:40",
          "2024-03-10T14:11:55",
          "2024-03-10T14:12:25",
          "2024-03-10T14:12:55",
          "2024-03-10T14:13:25",
          "2024-03-10T14:13:40",
          "2024-03-10T14:13:55",
          "2024-03-10T14:14:10",
          "2024-03-10T14:14:40",
          "2024-03-10T14:15:40",
          "2024-03-10T14:16:25",
          "2024-03-10T14:17:25",
          "2024-03-10T14:17:40",
          "2024-03-10T14:18:55",
          "2024-03-10T14:19:25",
          "2024-03-10T14:19:41",
          "2024-03-10T14:20:10",
          "2024-03-10T14:20:25",
          "2024-03-10T14:20:40",
          "2024-03-10T14:20:55",
          "2024-03-10T14:21:10",
          "2024-03-10T14:21:25",
          "2024-03-10T14:21:40",
          "2024-03-10T14:21:55",
          "2024-03-10T14:22:11",
          "2024-03-10T14:22:39",
          "2024-03-10T14:23:55",
          "2024-03-10T14:24:10",
          "2024-03-10T14:24:25",
          "2024-03-10T14:24:40",
          "2024-03-10T14:24:56",
          "2024-03-10T14:25:11"
         ],
         "xaxis": "x4",
         "y": [
          63,
          57,
          45,
          48,
          60,
          50,
          65,
          48,
          51,
          49,
          63,
          50,
          61,
          58,
          53,
          47,
          46,
          56,
          52,
          55,
          56,
          50,
          57,
          53,
          42,
          55,
          60,
          59,
          54,
          59,
          50,
          54,
          39,
          35,
          46,
          49,
          55,
          57,
          58,
          54,
          49,
          60,
          58,
          60,
          58,
          55,
          48,
          50,
          53,
          55,
          57,
          60,
          54,
          57,
          40,
          16,
          15,
          10,
          2,
          0,
          0
         ],
         "yaxis": "y4"
        },
        {
         "hovertemplate": "polarity=discharge<br>sensor=Range (mi)<br>ts=%{x}<br>reading=%{y}<extra></extra>",
         "legendgroup": "discharge",
         "marker": {
          "color": "#EF553B",
          "symbol": "circle"
         },
         "mode": "markers",
         "name": "discharge",
         "orientation": "v",
         "showlegend": false,
         "type": "scatter",
         "x": [
          "2024-03-10T13:34:28",
          "2024-03-10T13:40:55",
          "2024-03-10T13:41:40",
          "2024-03-10T13:41:55",
          "2024-03-10T13:42:28",
          "2024-03-10T13:49:55",
          "2024-03-10T13:51:40",
          "2024-03-10T13:52:40",
          "2024-03-10T13:53:10",
          "2024-03-10T13:53:55",
          "2024-03-10T13:54:10",
          "2024-03-10T13:54:24",
          "2024-03-10T13:54:40",
          "2024-03-10T13:56:11",
          "2024-03-10T13:56:24",
          "2024-03-10T13:56:40",
          "2024-03-10T13:56:55",
          "2024-03-10T13:57:10",
          "2024-03-10T13:57:40",
          "2024-03-10T13:57:55",
          "2024-03-10T13:59:56",
          "2024-03-10T14:00:55",
          "2024-03-10T14:04:30",
          "2024-03-10T14:06:26",
          "2024-03-10T14:08:10",
          "2024-03-10T14:09:25",
          "2024-03-10T14:09:54",
          "2024-03-10T14:10:10",
          "2024-03-10T14:11:15",
          "2024-03-10T14:11:40",
          "2024-03-10T14:11:55",
          "2024-03-10T14:12:25",
          "2024-03-10T14:12:55",
          "2024-03-10T14:13:25",
          "2024-03-10T14:13:40",
          "2024-03-10T14:13:55",
          "2024-03-10T14:14:10",
          "2024-03-10T14:14:40",
          "2024-03-10T14:15:40",
          "2024-03-10T14:16:25",
          "2024-03-10T14:17:25",
          "2024-03-10T14:17:40",
          "2024-03-10T14:18:55",
          "2024-03-10T14:19:25",
          "2024-03-10T14:19:41",
          "2024-03-10T14:20:10",
          "2024-03-10T14:20:25",
          "2024-03-10T14:20:40",
          "2024-03-10T14:20:55",
          "2024-03-10T14:21:10",
          "2024-03-10T14:21:25",
          "2024-03-10T14:21:40",
          "2024-03-10T14:21:55",
          "2024-03-10T14:22:11",
          "2024-03-10T14:22:39",
          "2024-03-10T14:23:55",
          "2024-03-10T14:24:10",
          "2024-03-10T14:24:25",
          "2024-03-10T14:24:40",
          "2024-03-10T14:24:56",
          "2024-03-10T14:25:11"
         ],
         "xaxis": "x3",
         "y": [
          97.13,
          92.7,
          92.7,
          92.7,
          92.7,
          93.17,
          93.17,
          93.17,
          92.7,
          92.7,
          92.7,
          92.7,
          92.7,
          92.15,
          92.15,
          92.15,
          92.15,
          92.15,
          92.15,
          92.15,
          92.15,
          92.15,
          93.65,
          93.65,
          93.65,
          93.65,
          93.65,
          93.65,
          93.65,
          93.17,
          92.15,
          91.67,
          91.67,
          91.67,
          91.67,
          91.67,
          91.67,
          91.67,
          91.67,
          91.67,
          91.67,
          91.67,
          91.67,
          91.67,
          91.67,
          91.67,
          91.67,
          91.67,
          91.67,
          91.67,
          91.67,
          91.67,
          91.67,
          91.67,
          91.67,
          91.67,
          91.67,
          91.67,
          91.67,
          91.67,
          92.23
         ],
         "yaxis": "y3"
        },
        {
         "hovertemplate": "polarity=discharge<br>sensor=Power (kW)<br>ts=%{x}<br>reading=%{y}<extra></extra>",
         "legendgroup": "discharge",
         "marker": {
          "color": "#EF553B",
          "symbol": "circle"
         },
         "mode": "markers",
         "name": "discharge",
         "orientation": "v",
         "showlegend": false,
         "type": "scatter",
         "x": [
          "2024-03-10T13:34:28",
          "2024-03-10T13:40:55",
          "2024-03-10T13:41:40",
          "2024-03-10T13:41:55",
          "2024-03-10T13:42:28",
          "2024-03-10T13:49:55",
          "2024-03-10T13:51:40",
          "2024-03-10T13:52:40",
          "2024-03-10T13:53:10",
          "2024-03-10T13:53:55",
          "2024-03-10T13:54:10",
          "2024-03-10T13:54:24",
          "2024-03-10T13:54:40",
          "2024-03-10T13:56:11",
          "2024-03-10T13:56:24",
          "2024-03-10T13:56:40",
          "2024-03-10T13:56:55",
          "2024-03-10T13:57:10",
          "2024-03-10T13:57:40",
          "2024-03-10T13:57:55",
          "2024-03-10T13:59:56",
          "2024-03-10T14:00:55",
          "2024-03-10T14:04:30",
          "2024-03-10T14:06:26",
          "2024-03-10T14:08:10",
          "2024-03-10T14:09:25",
          "2024-03-10T14:09:54",
          "2024-03-10T14:10:10",
          "2024-03-10T14:11:15",
          "2024-03-10T14:11:40",
          "2024-03-10T14:11:55",
          "2024-03-10T14:12:25",
          "2024-03-10T14:12:55",
          "2024-03-10T14:13:25",
          "2024-03-10T14:13:40",
          "2024-03-10T14:13:55",
          "2024-03-10T14:14:10",
          "2024-03-10T14:14:40",
          "2024-03-10T14:15:40",
          "2024-03-10T14:16:25",
          "2024-03-10T14:17:25",
          "2024-03-10T14:17:40",
          "2024-03-10T14:18:55",
          "2024-03-10T14:19:25",
          "2024-03-10T14:19:41",
          "2024-03-10T14:20:10",
          "2024-03-10T14:20:25",
          "2024-03-10T14:20:40",
          "2024-03-10T14:20:55",
          "2024-03-10T14:21:10",
          "2024-03-10T14:21:25",
          "2024-03-10T14:21:40",
          "2024-03-10T14:21:55",
          "2024-03-10T14:22:11",
          "2024-03-10T14:22:39",
          "2024-03-10T14:23:55",
          "2024-03-10T14:24:10",
          "2024-03-10T14:24:25",
          "2024-03-10T14:24:40",
          "2024-03-10T14:24:56",
          "2024-03-10T14:25:11"
         ],
         "xaxis": "x2",
         "y": [
          30,
          6,
          24,
          7,
          42,
          8,
          43,
          40,
          22,
          3,
          56,
          5,
          28,
          5,
          44,
          99,
          33,
          37,
          29,
          12,
          17,
          13,
          11,
          18,
          39,
          10,
          13,
          14,
          79,
          88,
          35,
          27,
          8,
          9,
          3,
          6,
          2,
          9,
          16,
          12,
          9,
          7,
          12,
          6,
          43,
          19,
          6,
          7,
          23,
          38,
          17,
          11,
          17,
          14,
          20,
          12,
          9,
          1,
          3,
          2,
          2
         ],
         "yaxis": "y2"
        },
        {
         "hovertemplate": "polarity=discharge<br>sensor=Elevation (ft)<br>ts=%{x}<br>reading=%{y}<extra></extra>",
         "legendgroup": "discharge",
         "marker": {
          "color": "#EF553B",
          "symbol": "circle"
         },
         "mode": "markers",
         "name": "discharge",
         "orientation": "v",
         "showlegend": false,
         "type": "scatter",
         "x": [
          "2024-03-10T13:34:28",
          "2024-03-10T13:40:55",
          "2024-03-10T13:41:40",
          "2024-03-10T13:41:55",
          "2024-03-10T13:42:28",
          "2024-03-10T13:49:55",
          "2024-03-10T13:51:40",
          "2024-03-10T13:52:40",
          "2024-03-10T13:53:10",
          "2024-03-10T13:53:55",
          "2024-03-10T13:54:10",
          "2024-03-10T13:54:24",
          "2024-03-10T13:54:40",
          "2024-03-10T13:56:11",
          "2024-03-10T13:56:24",
          "2024-03-10T13:56:40",
          "2024-03-10T13:56:55",
          "2024-03-10T13:57:10",
          "2024-03-10T13:57:40",
          "2024-03-10T13:57:55",
          "2024-03-10T13:59:56",
          "2024-03-10T14:00:55",
          "2024-03-10T14:04:30",
          "2024-03-10T14:06:26",
          "2024-03-10T14:08:10",
          "2024-03-10T14:09:25",
          "2024-03-10T14:09:54",
          "2024-03-10T14:10:10",
          "2024-03-10T14:11:15",
          "2024-03-10T14:11:40",
          "2024-03-10T14:11:55",
          "2024-03-10T14:12:25",
          "2024-03-10T14:12:55",
          "2024-03-10T14:13:25",
          "2024-03-10T14:13:40",
          "2024-03-10T14:13:55",
          "2024-03-10T14:14:10",
          "2024-03-10T14:14:40",
          "2024-03-10T14:15:40",
          "2024-03-10T14:16:25",
          "2024-03-10T14:17:25",
          "2024-03-10T14:17:40",
          "2024-03-10T14:18:55",
          "2024-03-10T14:19:25",
          "2024-03-10T14:19:41",
          "2024-03-10T14:20:10",
          "2024-03-10T14:20:25",
          "2024-03-10T14:20:40",
          "2024-03-10T14:20:55",
          "2024-03-10T14:21:10",
          "2024-03-10T14:21:25",
          "2024-03-10T14:21:40",
          "2024-03-10T14:21:55",
          "2024-03-10T14:22:11",
          "2024-03-10T14:22:39",
          "2024-03-10T14:23:55",
          "2024-03-10T14:24:10",
          "2024-03-10T14:24:25",
          "2024-03-10T14:24:40",
          "2024-03-10T14:24:56",
          "2024-03-10T14:25:11"
         ],
         "xaxis": "x",
         "y": [
          7440.94512,
          6856.9556,
          6732.28368,
          6699.47528,
          6597.76924,
          5413.386,
          4950.78756,
          5016.40436,
          4937.6642,
          4744.09464,
          4744.09464,
          4714.56708,
          4668.63532,
          4225.72192,
          4248.6878,
          4255.24948,
          4307.74292,
          4274.93452,
          4153.54344,
          4087.92664,
          3825.45944,
          3592.5198,
          3198.819,
          2933.07096,
          2893.70088,
          2683.72712,
          2634.51452,
          2545.93184,
          2417.97908,
          2450.78748,
          2618.11032,
          2532.80848,
          2529.52764,
          2500.00008,
          2473.75336,
          2447.50664,
          2417.97908,
          2299.86884,
          2024.27828,
          1916.01056,
          1696.19428,
          1646.98168,
          1502.62472,
          1459.9738,
          1384.51448,
          1322.17852,
          1315.61684,
          1338.58272,
          1312.336,
          1282.80844,
          1263.1234,
          1276.24676,
          1289.37012,
          1295.9318,
          1227.03416,
          1194.22576,
          1213.9108,
          1204.06828,
          1194.22576,
          1190.94492,
          1190.94492
         ],
         "yaxis": "y"
        }
       ],
       "layout": {
        "annotations": [
         {
          "font": {},
          "showarrow": false,
          "text": "Elevation (ft)",
          "textangle": 90,
          "x": 0.98,
          "xanchor": "left",
          "xref": "paper",
          "y": 0.08800000000000001,
          "yanchor": "middle",
          "yref": "paper"
         },
         {
          "font": {},
          "showarrow": false,
          "text": "Power (kW)",
          "textangle": 90,
          "x": 0.98,
          "xanchor": "left",
          "xref": "paper",
          "y": 0.29400000000000004,
          "yanchor": "middle",
          "yref": "paper"
         },
         {
          "font": {},
          "showarrow": false,
          "text": "Range (mi)",
          "textangle": 90,
          "x": 0.98,
          "xanchor": "left",
          "xref": "paper",
          "y": 0.5,
          "yanchor": "middle",
          "yref": "paper"
         },
         {
          "font": {},
          "showarrow": false,
          "text": "Speed (mph)",
          "textangle": 90,
          "x": 0.98,
          "xanchor": "left",
          "xref": "paper",
          "y": 0.706,
          "yanchor": "middle",
          "yref": "paper"
         },
         {
          "font": {},
          "showarrow": false,
          "text": "Trip (mi)",
          "textangle": 90,
          "x": 0.98,
          "xanchor": "left",
          "xref": "paper",
          "y": 0.912,
          "yanchor": "middle",
          "yref": "paper"
         }
        ],
        "height": 800,
        "legend": {
         "title": {
          "text": "polarity"
         },
         "tracegroupgap": 0
        },
        "template": {
         "data": {
          "bar": [
           {
            "error_x": {
             "color": "#2a3f5f"
            },
            "error_y": {
             "color": "#2a3f5f"
            },
            "marker": {
             "line": {
              "color": "#E5ECF6",
              "width": 0.5
             },
             "pattern": {
              "fillmode": "overlay",
              "size": 10,
              "solidity": 0.2
             }
            },
            "type": "bar"
           }
          ],
          "barpolar": [
           {
            "marker": {
             "line": {
              "color": "#E5ECF6",
              "width": 0.5
             },
             "pattern": {
              "fillmode": "overlay",
              "size": 10,
              "solidity": 0.2
             }
            },
            "type": "barpolar"
           }
          ],
          "carpet": [
           {
            "aaxis": {
             "endlinecolor": "#2a3f5f",
             "gridcolor": "white",
             "linecolor": "white",
             "minorgridcolor": "white",
             "startlinecolor": "#2a3f5f"
            },
            "baxis": {
             "endlinecolor": "#2a3f5f",
             "gridcolor": "white",
             "linecolor": "white",
             "minorgridcolor": "white",
             "startlinecolor": "#2a3f5f"
            },
            "type": "carpet"
           }
          ],
          "choropleth": [
           {
            "colorbar": {
             "outlinewidth": 0,
             "ticks": ""
            },
            "type": "choropleth"
           }
          ],
          "contour": [
           {
            "colorbar": {
             "outlinewidth": 0,
             "ticks": ""
            },
            "colorscale": [
             [
              0,
              "#0d0887"
             ],
             [
              0.1111111111111111,
              "#46039f"
             ],
             [
              0.2222222222222222,
              "#7201a8"
             ],
             [
              0.3333333333333333,
              "#9c179e"
             ],
             [
              0.4444444444444444,
              "#bd3786"
             ],
             [
              0.5555555555555556,
              "#d8576b"
             ],
             [
              0.6666666666666666,
              "#ed7953"
             ],
             [
              0.7777777777777778,
              "#fb9f3a"
             ],
             [
              0.8888888888888888,
              "#fdca26"
             ],
             [
              1,
              "#f0f921"
             ]
            ],
            "type": "contour"
           }
          ],
          "contourcarpet": [
           {
            "colorbar": {
             "outlinewidth": 0,
             "ticks": ""
            },
            "type": "contourcarpet"
           }
          ],
          "heatmap": [
           {
            "colorbar": {
             "outlinewidth": 0,
             "ticks": ""
            },
            "colorscale": [
             [
              0,
              "#0d0887"
             ],
             [
              0.1111111111111111,
              "#46039f"
             ],
             [
              0.2222222222222222,
              "#7201a8"
             ],
             [
              0.3333333333333333,
              "#9c179e"
             ],
             [
              0.4444444444444444,
              "#bd3786"
             ],
             [
              0.5555555555555556,
              "#d8576b"
             ],
             [
              0.6666666666666666,
              "#ed7953"
             ],
             [
              0.7777777777777778,
              "#fb9f3a"
             ],
             [
              0.8888888888888888,
              "#fdca26"
             ],
             [
              1,
              "#f0f921"
             ]
            ],
            "type": "heatmap"
           }
          ],
          "heatmapgl": [
           {
            "colorbar": {
             "outlinewidth": 0,
             "ticks": ""
            },
            "colorscale": [
             [
              0,
              "#0d0887"
             ],
             [
              0.1111111111111111,
              "#46039f"
             ],
             [
              0.2222222222222222,
              "#7201a8"
             ],
             [
              0.3333333333333333,
              "#9c179e"
             ],
             [
              0.4444444444444444,
              "#bd3786"
             ],
             [
              0.5555555555555556,
              "#d8576b"
             ],
             [
              0.6666666666666666,
              "#ed7953"
             ],
             [
              0.7777777777777778,
              "#fb9f3a"
             ],
             [
              0.8888888888888888,
              "#fdca26"
             ],
             [
              1,
              "#f0f921"
             ]
            ],
            "type": "heatmapgl"
           }
          ],
          "histogram": [
           {
            "marker": {
             "pattern": {
              "fillmode": "overlay",
              "size": 10,
              "solidity": 0.2
             }
            },
            "type": "histogram"
           }
          ],
          "histogram2d": [
           {
            "colorbar": {
             "outlinewidth": 0,
             "ticks": ""
            },
            "colorscale": [
             [
              0,
              "#0d0887"
             ],
             [
              0.1111111111111111,
              "#46039f"
             ],
             [
              0.2222222222222222,
              "#7201a8"
             ],
             [
              0.3333333333333333,
              "#9c179e"
             ],
             [
              0.4444444444444444,
              "#bd3786"
             ],
             [
              0.5555555555555556,
              "#d8576b"
             ],
             [
              0.6666666666666666,
              "#ed7953"
             ],
             [
              0.7777777777777778,
              "#fb9f3a"
             ],
             [
              0.8888888888888888,
              "#fdca26"
             ],
             [
              1,
              "#f0f921"
             ]
            ],
            "type": "histogram2d"
           }
          ],
          "histogram2dcontour": [
           {
            "colorbar": {
             "outlinewidth": 0,
             "ticks": ""
            },
            "colorscale": [
             [
              0,
              "#0d0887"
             ],
             [
              0.1111111111111111,
              "#46039f"
             ],
             [
              0.2222222222222222,
              "#7201a8"
             ],
             [
              0.3333333333333333,
              "#9c179e"
             ],
             [
              0.4444444444444444,
              "#bd3786"
             ],
             [
              0.5555555555555556,
              "#d8576b"
             ],
             [
              0.6666666666666666,
              "#ed7953"
             ],
             [
              0.7777777777777778,
              "#fb9f3a"
             ],
             [
              0.8888888888888888,
              "#fdca26"
             ],
             [
              1,
              "#f0f921"
             ]
            ],
            "type": "histogram2dcontour"
           }
          ],
          "mesh3d": [
           {
            "colorbar": {
             "outlinewidth": 0,
             "ticks": ""
            },
            "type": "mesh3d"
           }
          ],
          "parcoords": [
           {
            "line": {
             "colorbar": {
              "outlinewidth": 0,
              "ticks": ""
             }
            },
            "type": "parcoords"
           }
          ],
          "pie": [
           {
            "automargin": true,
            "type": "pie"
           }
          ],
          "scatter": [
           {
            "fillpattern": {
             "fillmode": "overlay",
             "size": 10,
             "solidity": 0.2
            },
            "type": "scatter"
           }
          ],
          "scatter3d": [
           {
            "line": {
             "colorbar": {
              "outlinewidth": 0,
              "ticks": ""
             }
            },
            "marker": {
             "colorbar": {
              "outlinewidth": 0,
              "ticks": ""
             }
            },
            "type": "scatter3d"
           }
          ],
          "scattercarpet": [
           {
            "marker": {
             "colorbar": {
              "outlinewidth": 0,
              "ticks": ""
             }
            },
            "type": "scattercarpet"
           }
          ],
          "scattergeo": [
           {
            "marker": {
             "colorbar": {
              "outlinewidth": 0,
              "ticks": ""
             }
            },
            "type": "scattergeo"
           }
          ],
          "scattergl": [
           {
            "marker": {
             "colorbar": {
              "outlinewidth": 0,
              "ticks": ""
             }
            },
            "type": "scattergl"
           }
          ],
          "scattermapbox": [
           {
            "marker": {
             "colorbar": {
              "outlinewidth": 0,
              "ticks": ""
             }
            },
            "type": "scattermapbox"
           }
          ],
          "scatterpolar": [
           {
            "marker": {
             "colorbar": {
              "outlinewidth": 0,
              "ticks": ""
             }
            },
            "type": "scatterpolar"
           }
          ],
          "scatterpolargl": [
           {
            "marker": {
             "colorbar": {
              "outlinewidth": 0,
              "ticks": ""
             }
            },
            "type": "scatterpolargl"
           }
          ],
          "scatterternary": [
           {
            "marker": {
             "colorbar": {
              "outlinewidth": 0,
              "ticks": ""
             }
            },
            "type": "scatterternary"
           }
          ],
          "surface": [
           {
            "colorbar": {
             "outlinewidth": 0,
             "ticks": ""
            },
            "colorscale": [
             [
              0,
              "#0d0887"
             ],
             [
              0.1111111111111111,
              "#46039f"
             ],
             [
              0.2222222222222222,
              "#7201a8"
             ],
             [
              0.3333333333333333,
              "#9c179e"
             ],
             [
              0.4444444444444444,
              "#bd3786"
             ],
             [
              0.5555555555555556,
              "#d8576b"
             ],
             [
              0.6666666666666666,
              "#ed7953"
             ],
             [
              0.7777777777777778,
              "#fb9f3a"
             ],
             [
              0.8888888888888888,
              "#fdca26"
             ],
             [
              1,
              "#f0f921"
             ]
            ],
            "type": "surface"
           }
          ],
          "table": [
           {
            "cells": {
             "fill": {
              "color": "#EBF0F8"
             },
             "line": {
              "color": "white"
             }
            },
            "header": {
             "fill": {
              "color": "#C8D4E3"
             },
             "line": {
              "color": "white"
             }
            },
            "type": "table"
           }
          ]
         },
         "layout": {
          "annotationdefaults": {
           "arrowcolor": "#2a3f5f",
           "arrowhead": 0,
           "arrowwidth": 1
          },
          "autotypenumbers": "strict",
          "coloraxis": {
           "colorbar": {
            "outlinewidth": 0,
            "ticks": ""
           }
          },
          "colorscale": {
           "diverging": [
            [
             0,
             "#8e0152"
            ],
            [
             0.1,
             "#c51b7d"
            ],
            [
             0.2,
             "#de77ae"
            ],
            [
             0.3,
             "#f1b6da"
            ],
            [
             0.4,
             "#fde0ef"
            ],
            [
             0.5,
             "#f7f7f7"
            ],
            [
             0.6,
             "#e6f5d0"
            ],
            [
             0.7,
             "#b8e186"
            ],
            [
             0.8,
             "#7fbc41"
            ],
            [
             0.9,
             "#4d9221"
            ],
            [
             1,
             "#276419"
            ]
           ],
           "sequential": [
            [
             0,
             "#0d0887"
            ],
            [
             0.1111111111111111,
             "#46039f"
            ],
            [
             0.2222222222222222,
             "#7201a8"
            ],
            [
             0.3333333333333333,
             "#9c179e"
            ],
            [
             0.4444444444444444,
             "#bd3786"
            ],
            [
             0.5555555555555556,
             "#d8576b"
            ],
            [
             0.6666666666666666,
             "#ed7953"
            ],
            [
             0.7777777777777778,
             "#fb9f3a"
            ],
            [
             0.8888888888888888,
             "#fdca26"
            ],
            [
             1,
             "#f0f921"
            ]
           ],
           "sequentialminus": [
            [
             0,
             "#0d0887"
            ],
            [
             0.1111111111111111,
             "#46039f"
            ],
            [
             0.2222222222222222,
             "#7201a8"
            ],
            [
             0.3333333333333333,
             "#9c179e"
            ],
            [
             0.4444444444444444,
             "#bd3786"
            ],
            [
             0.5555555555555556,
             "#d8576b"
            ],
            [
             0.6666666666666666,
             "#ed7953"
            ],
            [
             0.7777777777777778,
             "#fb9f3a"
            ],
            [
             0.8888888888888888,
             "#fdca26"
            ],
            [
             1,
             "#f0f921"
            ]
           ]
          },
          "colorway": [
           "#636efa",
           "#EF553B",
           "#00cc96",
           "#ab63fa",
           "#FFA15A",
           "#19d3f3",
           "#FF6692",
           "#B6E880",
           "#FF97FF",
           "#FECB52"
          ],
          "font": {
           "color": "#2a3f5f"
          },
          "geo": {
           "bgcolor": "white",
           "lakecolor": "white",
           "landcolor": "#E5ECF6",
           "showlakes": true,
           "showland": true,
           "subunitcolor": "white"
          },
          "hoverlabel": {
           "align": "left"
          },
          "hovermode": "closest",
          "mapbox": {
           "style": "light"
          },
          "paper_bgcolor": "white",
          "plot_bgcolor": "#E5ECF6",
          "polar": {
           "angularaxis": {
            "gridcolor": "white",
            "linecolor": "white",
            "ticks": ""
           },
           "bgcolor": "#E5ECF6",
           "radialaxis": {
            "gridcolor": "white",
            "linecolor": "white",
            "ticks": ""
           }
          },
          "scene": {
           "xaxis": {
            "backgroundcolor": "#E5ECF6",
            "gridcolor": "white",
            "gridwidth": 2,
            "linecolor": "white",
            "showbackground": true,
            "ticks": "",
            "zerolinecolor": "white"
           },
           "yaxis": {
            "backgroundcolor": "#E5ECF6",
            "gridcolor": "white",
            "gridwidth": 2,
            "linecolor": "white",
            "showbackground": true,
            "ticks": "",
            "zerolinecolor": "white"
           },
           "zaxis": {
            "backgroundcolor": "#E5ECF6",
            "gridcolor": "white",
            "gridwidth": 2,
            "linecolor": "white",
            "showbackground": true,
            "ticks": "",
            "zerolinecolor": "white"
           }
          },
          "shapedefaults": {
           "line": {
            "color": "#2a3f5f"
           }
          },
          "ternary": {
           "aaxis": {
            "gridcolor": "white",
            "linecolor": "white",
            "ticks": ""
           },
           "baxis": {
            "gridcolor": "white",
            "linecolor": "white",
            "ticks": ""
           },
           "bgcolor": "#E5ECF6",
           "caxis": {
            "gridcolor": "white",
            "linecolor": "white",
            "ticks": ""
           }
          },
          "title": {
           "x": 0.05
          },
          "xaxis": {
           "automargin": true,
           "gridcolor": "white",
           "linecolor": "white",
           "ticks": "",
           "title": {
            "standoff": 15
           },
           "zerolinecolor": "white",
           "zerolinewidth": 2
          },
          "yaxis": {
           "automargin": true,
           "gridcolor": "white",
           "linecolor": "white",
           "ticks": "",
           "title": {
            "standoff": 15
           },
           "zerolinecolor": "white",
           "zerolinewidth": 2
          }
         }
        },
        "title": {
         "text": "Going downhill fast: achieving 29 Wh / mi: range, speed, power, and elevation"
        },
        "width": 1000,
        "xaxis": {
         "anchor": "y",
         "domain": [
          0,
          0.98
         ],
         "title": {
          "text": "ts"
         }
        },
        "xaxis2": {
         "anchor": "y2",
         "domain": [
          0,
          0.98
         ],
         "matches": "x",
         "showticklabels": false
        },
        "xaxis3": {
         "anchor": "y3",
         "domain": [
          0,
          0.98
         ],
         "matches": "x",
         "showticklabels": false
        },
        "xaxis4": {
         "anchor": "y4",
         "domain": [
          0,
          0.98
         ],
         "matches": "x",
         "showticklabels": false
        },
        "xaxis5": {
         "anchor": "y5",
         "domain": [
          0,
          0.98
         ],
         "matches": "x",
         "showticklabels": false
        },
        "yaxis": {
         "anchor": "x",
         "domain": [
          0,
          0.17600000000000002
         ],
         "title": {
          "text": ""
         }
        },
        "yaxis2": {
         "anchor": "x2",
         "domain": [
          0.20600000000000002,
          0.382
         ],
         "title": {
          "text": ""
         }
        },
        "yaxis3": {
         "anchor": "x3",
         "domain": [
          0.41200000000000003,
          0.5880000000000001
         ],
         "title": {
          "text": ""
         }
        },
        "yaxis4": {
         "anchor": "x4",
         "domain": [
          0.618,
          0.794
         ],
         "title": {
          "text": ""
         }
        },
        "yaxis5": {
         "anchor": "x5",
         "domain": [
          0.8240000000000001,
          1
         ],
         "title": {
          "text": ""
         }
        }
       }
      }
     },
     "metadata": {},
     "output_type": "display_data"
    }
   ],
   "source": [
    "fig = px.scatter(\n",
    "    df,\n",
    "    x=\"ts\",\n",
    "    y=\"reading\",\n",
    "    facet_row=\"sensor\",\n",
    "    color=\"polarity\",\n",
    "    title=\"Going downhill fast: achieving 29 Wh / mi: range, speed, power, and elevation\",\n",
    "    height=800,\n",
    "    width=1000,\n",
    "    category_orders={\n",
    "        \"sensor\": [\"Trip (mi)\", \"Speed (mph)\", \"Range (mi)\", \"Power (kW)\", \"Elevation (ft)\"],\n",
    "        \"polarity\": [\"charge\", \"discharge\"]\n",
    "    },\n",
    ")\n",
    "fig.update_yaxes(matches=None, title=\"\")\n",
    "fig.for_each_annotation(lambda a: a.update(text=a.text.split(\"=\")[1]))\n",
    "fig.show()"
   ]
  },
  {
   "cell_type": "markdown",
   "metadata": {},
   "source": [
    "This is my first time looking at the Tessie app data in detail, what can we see?\n",
    "\n",
    "1. There are gaps up to 5 minutes in the data, presumably from poor cellular service in the mountains\n",
    "2. The maximum sample rate looks something like once every 15 seconds\n",
    "   1. A little slower than we'd like\n",
    "   2. But infinitely faster than my old ICE car's sample rate (0)\n",
    "3. Trip (mi) increases very linear until the last 5% where the slope decreases significantly\n",
    "   1. This suggests a fairly constant speed for the majority of the trip\n",
    "   2. Followed by a short distance at a lower speed\n",
    "4. Speed confirms a somewhat flat 90% of the trip averaging around 55 mph\n",
    "   1. Confirmed that last 10% of the trip has a slowing trend\n",
    "5. Range is our best proxy of energy in the battery\n",
    "   1. Recall, battery_level is integer [0 - 100]\n",
    "   2. The very beginning of the trip has a range of 97.13 miles\n",
    "   3. This goes down to 92.7 miles after the first 5 minute gap\n",
    "   4. The range bounces up twice\n",
    "      1. Once peaking briefly at 94.12 miles\n",
    "      2. Then sustained at 93.65 miles\n",
    "   5. The fairly constant value (range less than 6 miles over a 45 mile trip) supports the significant regenerative braking delivering extremely high efficiency\n",
    "6. Power polarity is spread fairly evenly in time and amplitude over the trip\n",
    "   1. This indicates similar discharge / charger and acceleration / regenerative braking times and rates\n",
    "   2. Discharge and charge have different maximum amplitudes\n",
    "      3. Discharge peaks at 99 kW\n",
    "      4. Charge peaks at -67 kW\n",
    "      5. I have not read on whether the Model Y can discharge and charge at the same rates\n",
    "7. Elevation starts fairly linear then tapers off\n",
    "   1. It seems you can see this trend in speed"
   ]
  },
  {
   "cell_type": "code",
   "execution_count": 9,
   "metadata": {},
   "outputs": [
    {
     "data": {
      "text/html": [
       "<div>\n",
       "<style scoped>\n",
       "    .dataframe tbody tr th:only-of-type {\n",
       "        vertical-align: middle;\n",
       "    }\n",
       "\n",
       "    .dataframe tbody tr th {\n",
       "        vertical-align: top;\n",
       "    }\n",
       "\n",
       "    .dataframe thead th {\n",
       "        text-align: right;\n",
       "    }\n",
       "</style>\n",
       "<table border=\"1\" class=\"dataframe\">\n",
       "  <thead>\n",
       "    <tr style=\"text-align: right;\">\n",
       "      <th></th>\n",
       "      <th>ts</th>\n",
       "      <th>polarity</th>\n",
       "      <th>power</th>\n",
       "      <th>energy</th>\n",
       "    </tr>\n",
       "  </thead>\n",
       "  <tbody>\n",
       "    <tr>\n",
       "      <th>0</th>\n",
       "      <td>2024-03-10 13:34:28</td>\n",
       "      <td>discharge</td>\n",
       "      <td>30</td>\n",
       "      <td>0.125000</td>\n",
       "    </tr>\n",
       "    <tr>\n",
       "      <th>1</th>\n",
       "      <td>2024-03-10 13:34:41</td>\n",
       "      <td>charge</td>\n",
       "      <td>-43</td>\n",
       "      <td>-0.179167</td>\n",
       "    </tr>\n",
       "    <tr>\n",
       "      <th>2</th>\n",
       "      <td>2024-03-10 13:40:55</td>\n",
       "      <td>discharge</td>\n",
       "      <td>6</td>\n",
       "      <td>0.025000</td>\n",
       "    </tr>\n",
       "    <tr>\n",
       "      <th>3</th>\n",
       "      <td>2024-03-10 13:41:18</td>\n",
       "      <td>charge</td>\n",
       "      <td>-4</td>\n",
       "      <td>-0.016667</td>\n",
       "    </tr>\n",
       "    <tr>\n",
       "      <th>4</th>\n",
       "      <td>2024-03-10 13:41:25</td>\n",
       "      <td>charge</td>\n",
       "      <td>-16</td>\n",
       "      <td>-0.066667</td>\n",
       "    </tr>\n",
       "  </tbody>\n",
       "</table>\n",
       "</div>"
      ],
      "text/plain": [
       "                   ts   polarity  power    energy\n",
       "0 2024-03-10 13:34:28  discharge     30  0.125000\n",
       "1 2024-03-10 13:34:41     charge    -43 -0.179167\n",
       "2 2024-03-10 13:40:55  discharge      6  0.025000\n",
       "3 2024-03-10 13:41:18     charge     -4 -0.016667\n",
       "4 2024-03-10 13:41:25     charge    -16 -0.066667"
      ]
     },
     "execution_count": 9,
     "metadata": {},
     "output_type": "execute_result"
    }
   ],
   "source": [
    "df = duckdb.query(\n",
    "    f\"\"\"       select ts,\n",
    "               case when power >= 0 then 'discharge'\n",
    "               else 'charge' end as polarity,\n",
    "               power,\n",
    "               power * (select ) / 60 / 60 as energy\n",
    "               from data_v\n",
    "        order by ts\n",
    "               \"\"\"\n",
    ").to_df()\n",
    "\n",
    "df.head()"
   ]
  },
  {
   "cell_type": "code",
   "execution_count": 11,
   "metadata": {},
   "outputs": [
    {
     "data": {
      "text/plain": [
       "0.4125"
      ]
     },
     "execution_count": 11,
     "metadata": {},
     "output_type": "execute_result"
    }
   ],
   "source": [
    "df.energy.max()"
   ]
  },
  {
   "cell_type": "markdown",
   "metadata": {},
   "source": [
    "Sure enough we have the data to support spending 1.3 kWh to travel 44.9 mi, for an amazing 29 Wh / mi! I wish I could get that mileage all the time!\n",
    "\n",
    "I am interested in just how much energy we charged and discharged, but the significant gaps in data and relatively slow sample rate \n",
    "\n",
    "It wasn't a bug after all, it was a feature (of EVs and gravity)"
   ]
  },
  {
   "cell_type": "markdown",
   "metadata": {},
   "source": []
  }
 ],
 "metadata": {
  "kernelspec": {
   "display_name": ".venv",
   "language": "python",
   "name": "python3"
  },
  "language_info": {
   "codemirror_mode": {
    "name": "ipython",
    "version": 3
   },
   "file_extension": ".py",
   "mimetype": "text/x-python",
   "name": "python",
   "nbconvert_exporter": "python",
   "pygments_lexer": "ipython3",
   "version": "3.11.7"
  }
 },
 "nbformat": 4,
 "nbformat_minor": 2
}
